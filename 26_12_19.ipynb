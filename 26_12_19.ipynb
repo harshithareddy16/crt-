{
  "nbformat": 4,
  "nbformat_minor": 0,
  "metadata": {
    "colab": {
      "name": "26-12-19.ipynb",
      "provenance": [],
      "include_colab_link": true
    },
    "kernelspec": {
      "name": "python3",
      "display_name": "Python 3"
    }
  },
  "cells": [
    {
      "cell_type": "markdown",
      "metadata": {
        "id": "view-in-github",
        "colab_type": "text"
      },
      "source": [
        "<a href=\"https://colab.research.google.com/github/harshithareddy16/crt-/blob/master/26_12_19.ipynb\" target=\"_parent\"><img src=\"https://colab.research.google.com/assets/colab-badge.svg\" alt=\"Open In Colab\"/></a>"
      ]
    },
    {
      "cell_type": "code",
      "metadata": {
        "id": "t2EP_XADXAcG",
        "colab_type": "code",
        "colab": {}
      },
      "source": [
        ""
      ],
      "execution_count": 0,
      "outputs": []
    },
    {
      "cell_type": "markdown",
      "metadata": {
        "id": "LG4U96HfXGgm",
        "colab_type": "text"
      },
      "source": [
        ""
      ]
    },
    {
      "cell_type": "code",
      "metadata": {
        "id": "GftdphBuXJBh",
        "colab_type": "code",
        "outputId": "1d5dd292-6e97-4bfd-9b39-5557828b7522",
        "colab": {
          "base_uri": "https://localhost:8080/",
          "height": 85
        }
      },
      "source": [
        "#largest of 3 numbers\n",
        "a=int(input(\"enter value of a\"))\n",
        "b=int(input(\"enter value of b\"))\n",
        "c=int(input(\"enter value of c\"))\n",
        "if a>b and a>c:\n",
        "  print(a,\"is greater\")\n",
        "elif b>a and b>c:\n",
        "  print(b,\"is greater\")\n",
        "else:\n",
        "  print(c ,\"is greater\")  \n"
      ],
      "execution_count": 0,
      "outputs": [
        {
          "output_type": "stream",
          "text": [
            "enter value of a4\n",
            "enter value of b6\n",
            "enter value of c8\n",
            "8 is greater\n"
          ],
          "name": "stdout"
        }
      ]
    },
    {
      "cell_type": "markdown",
      "metadata": {
        "id": "_7oHjbXKXGc0",
        "colab_type": "text"
      },
      "source": [
        ""
      ]
    },
    {
      "cell_type": "markdown",
      "metadata": {
        "id": "wmKyUwp4Z3pd",
        "colab_type": "text"
      },
      "source": [
        "#while statements:\n",
        "###Syntax:\n",
        "####while Boolean_condition:<br>\n",
        "           statements<br>\n",
        "           increment/decrement <br>"
      ]
    },
    {
      "cell_type": "code",
      "metadata": {
        "id": "3zcC4nfmaZnU",
        "colab_type": "code",
        "colab": {}
      },
      "source": [
        ""
      ],
      "execution_count": 0,
      "outputs": []
    },
    {
      "cell_type": "code",
      "metadata": {
        "id": "6YKvU_7JbfRh",
        "colab_type": "code",
        "colab": {}
      },
      "source": [
        "x=0\n",
        "while x>5:\n",
        "  print(\"gitam\")\n",
        "  x=x+1"
      ],
      "execution_count": 0,
      "outputs": []
    },
    {
      "cell_type": "code",
      "metadata": {
        "id": "GZ65CuG8brI5",
        "colab_type": "code",
        "colab": {}
      },
      "source": [
        ""
      ],
      "execution_count": 0,
      "outputs": []
    },
    {
      "cell_type": "code",
      "metadata": {
        "id": "wRfzButPbxXS",
        "colab_type": "code",
        "outputId": "7ac90e64-7c35-4b26-88e1-40dbd39580a9",
        "colab": {
          "base_uri": "https://localhost:8080/",
          "height": 102
        }
      },
      "source": [
        "x=0\n",
        "while x<5:\n",
        "  print(\"gitam\")\n",
        "  x=x+1"
      ],
      "execution_count": 0,
      "outputs": [
        {
          "output_type": "stream",
          "text": [
            "gitam\n",
            "gitam\n",
            "gitam\n",
            "gitam\n",
            "gitam\n"
          ],
          "name": "stdout"
        }
      ]
    },
    {
      "cell_type": "code",
      "metadata": {
        "id": "IgxsiWw1byAC",
        "colab_type": "code",
        "outputId": "b6e60424-207e-448e-8369-dbbc6e8512e2",
        "colab": {
          "base_uri": "https://localhost:8080/",
          "height": 51
        }
      },
      "source": [
        "#print n natural numbers using while loop\n",
        "# input:10\n",
        "#output:1 2 3 4 5 6 7 8 9 10\n",
        "n=int(input(\"enter a number\"))\n",
        "i=1\n",
        "while i<=n:\n",
        "  print(i,end=\" \")\n",
        "  i=i+1"
      ],
      "execution_count": 0,
      "outputs": [
        {
          "output_type": "stream",
          "text": [
            "enter a number10\n",
            "1 2 3 4 5 6 7 8 9 10 "
          ],
          "name": "stdout"
        }
      ]
    },
    {
      "cell_type": "code",
      "metadata": {
        "id": "w6Y7kpo_dJDK",
        "colab_type": "code",
        "colab": {}
      },
      "source": [
        ""
      ],
      "execution_count": 0,
      "outputs": []
    },
    {
      "cell_type": "code",
      "metadata": {
        "id": "9YCRZLQcfiqk",
        "colab_type": "code",
        "outputId": "5a4cd285-58f3-4f3f-a027-792fcec28da5",
        "colab": {
          "base_uri": "https://localhost:8080/",
          "height": 51
        }
      },
      "source": [
        "#add only even numbers 1 to n\n",
        "# input:10\n",
        "# output:30 (2+4+6+8+10)\n",
        "n=int(input(\"enter a number\"))\n",
        "i=1\n",
        "sum=0\n",
        "while i<=n:\n",
        "  if i%2==0:\n",
        "    sum=sum+i\n",
        "  i=i+1\n",
        "print(sum,end= \" \")"
      ],
      "execution_count": 0,
      "outputs": [
        {
          "output_type": "stream",
          "text": [
            "enter a number10\n",
            "30 "
          ],
          "name": "stdout"
        }
      ]
    },
    {
      "cell_type": "code",
      "metadata": {
        "id": "xHtdOIb5gk3c",
        "colab_type": "code",
        "colab": {}
      },
      "source": [
        ""
      ],
      "execution_count": 0,
      "outputs": []
    },
    {
      "cell_type": "code",
      "metadata": {
        "id": "710zSDg2jeEG",
        "colab_type": "code",
        "outputId": "1882dde2-0cba-4c33-bf9f-1642d39bd742",
        "colab": {
          "base_uri": "https://localhost:8080/",
          "height": 51
        }
      },
      "source": [
        "#input i=123\n",
        "#output=321\n",
        "n=int(input(\"enter anumber\"))\n",
        "while n!=0:\n",
        "    r=n%10\n",
        "    print(r,end=\"\")\n",
        "    n=n//10\n",
        "  "
      ],
      "execution_count": 0,
      "outputs": [
        {
          "output_type": "stream",
          "text": [
            "enter anumber123\n",
            "321"
          ],
          "name": "stdout"
        }
      ]
    },
    {
      "cell_type": "code",
      "metadata": {
        "id": "tLqmpOM7kfxV",
        "colab_type": "code",
        "colab": {}
      },
      "source": [
        ""
      ],
      "execution_count": 0,
      "outputs": []
    },
    {
      "cell_type": "markdown",
      "metadata": {
        "id": "tXNTuHe7k8U6",
        "colab_type": "text"
      },
      "source": [
        "#Functional Programming\n",
        "- simple\n",
        "- easy read\n",
        "- lengthy program divides into sub programs\n"
      ]
    },
    {
      "cell_type": "code",
      "metadata": {
        "id": "F1F6FLKRlPnp",
        "colab_type": "code",
        "colab": {}
      },
      "source": [
        ""
      ],
      "execution_count": 0,
      "outputs": []
    },
    {
      "cell_type": "markdown",
      "metadata": {
        "id": "3xH_a-3NlTMe",
        "colab_type": "text"
      },
      "source": [
        "#SYNTAX\n"
      ]
    },
    {
      "cell_type": "code",
      "metadata": {
        "id": "mcwgy9Vmmzka",
        "colab_type": "code",
        "colab": {}
      },
      "source": [
        "#SYNTAX\n",
        "def nameofthefunction(<parameters>):\n",
        "    statements\n",
        "    return"
      ],
      "execution_count": 0,
      "outputs": []
    },
    {
      "cell_type": "code",
      "metadata": {
        "id": "lzctJ3vJm-_D",
        "colab_type": "code",
        "outputId": "c11c76b9-62a8-4cad-cc48-afcb273cef39",
        "colab": {
          "base_uri": "https://localhost:8080/",
          "height": 34
        }
      },
      "source": [
        "#input:1234\n",
        "#output:6(2+4)\n",
        "def addevendigit(n):\n",
        "  sum=0\n",
        "  while n!=0:\n",
        "    r=n%10\n",
        "    if r%2==0:\n",
        "      sum=sum+r\n",
        "    n=n//10\n",
        "  return sum\n",
        "addevendigit(1234)      \n"
      ],
      "execution_count": 0,
      "outputs": [
        {
          "output_type": "execute_result",
          "data": {
            "text/plain": [
              "6"
            ]
          },
          "metadata": {
            "tags": []
          },
          "execution_count": 12
        }
      ]
    },
    {
      "cell_type": "code",
      "metadata": {
        "id": "Fl8SQUjOmznQ",
        "colab_type": "code",
        "outputId": "fa819df0-6f35-4943-8459-3f26fc9e37b9",
        "colab": {
          "base_uri": "https://localhost:8080/",
          "height": 34
        }
      },
      "source": [
        "#read input\n",
        "# input:19528\n",
        "#output:9\n",
        "def findlarge(n):\n",
        "  large=0\n",
        "  while n!=0:\n",
        "    r=n%10\n",
        "    if r>large:\n",
        "      large=r\n",
        "    n=n//10\n",
        "  return large\n",
        "findlarge(19528)      \n",
        "    \n",
        "\n"
      ],
      "execution_count": 0,
      "outputs": [
        {
          "output_type": "execute_result",
          "data": {
            "text/plain": [
              "9"
            ]
          },
          "metadata": {
            "tags": []
          },
          "execution_count": 13
        }
      ]
    },
    {
      "cell_type": "code",
      "metadata": {
        "id": "keVbCLynmCby",
        "colab_type": "code",
        "outputId": "537a9e98-3dfb-400a-b3e7-ba34cc9aef7d",
        "colab": {
          "base_uri": "https://localhost:8080/",
          "height": 34
        }
      },
      "source": [
        "#input:123\n",
        "#output:321\n",
        "def rev(n):\n",
        "  while n!=0:\n",
        "    r=n%10\n",
        "    print(r,end=\"\")  \n",
        "    n=n//10\n",
        "    \n",
        "rev(123) \n",
        "  \n",
        " "
      ],
      "execution_count": 0,
      "outputs": [
        {
          "output_type": "stream",
          "text": [
            "321"
          ],
          "name": "stdout"
        }
      ]
    },
    {
      "cell_type": "code",
      "metadata": {
        "id": "TPZFZQRXxK68",
        "colab_type": "code",
        "outputId": "603eb10a-9d42-4033-8bfd-1c0532aaea76",
        "colab": {
          "base_uri": "https://localhost:8080/",
          "height": 34
        }
      },
      "source": [
        "#input:123\n",
        "#output:321\n",
        "def rev(n):\n",
        "    rev=0\n",
        "    buffer=n\n",
        "    while n!=0:\n",
        "      r=n%10\n",
        "      rev=rev*10+r\n",
        "      n=n//10\n",
        "    if buffer==rev:\n",
        "      return \"yes\" \n",
        "    else:\n",
        "      return \"no\" \n",
        "print(rev(121))\n",
        "  \n",
        " "
      ],
      "execution_count": 0,
      "outputs": [
        {
          "output_type": "stream",
          "text": [
            "yes\n"
          ],
          "name": "stdout"
        }
      ]
    },
    {
      "cell_type": "code",
      "metadata": {
        "id": "AATYNxP2lsqZ",
        "colab_type": "code",
        "colab": {}
      },
      "source": [
        ""
      ],
      "execution_count": 0,
      "outputs": []
    },
    {
      "cell_type": "code",
      "metadata": {
        "id": "zGnJNJgH0Pfe",
        "colab_type": "code",
        "outputId": "3b5fc84c-f702-4619-db2e-a11ab2a7cb06",
        "colab": {
          "base_uri": "https://localhost:8080/",
          "height": 34
        }
      },
      "source": [
        "#function to print n natural numbers\n",
        "def natural(n):\n",
        "    for i in range(1,n+1):\n",
        "      print(i,end=\"  \")\n",
        "natural(10)      "
      ],
      "execution_count": 0,
      "outputs": [
        {
          "output_type": "stream",
          "text": [
            "1  2  3  4  5  6  7  8  9  10  "
          ],
          "name": "stdout"
        }
      ]
    },
    {
      "cell_type": "code",
      "metadata": {
        "id": "hfN2kAUNuI-1",
        "colab_type": "code",
        "colab": {}
      },
      "source": [
        ""
      ],
      "execution_count": 0,
      "outputs": []
    },
    {
      "cell_type": "code",
      "metadata": {
        "id": "28MSH0vI091c",
        "colab_type": "code",
        "outputId": "f6475a84-ccdc-43a1-b516-11a40bf06cd3",
        "colab": {
          "base_uri": "https://localhost:8080/",
          "height": 34
        }
      },
      "source": [
        "#natural(11,15)\n",
        "#output:11,12,13,14,15\n",
        "def natural(l,m):\n",
        "  for i in range(l,m+1):\n",
        "    print(i,end=\"  \")\n",
        "natural(11,15)    \n"
      ],
      "execution_count": 0,
      "outputs": [
        {
          "output_type": "stream",
          "text": [
            "11  12  13  14  15  "
          ],
          "name": "stdout"
        }
      ]
    },
    {
      "cell_type": "markdown",
      "metadata": {
        "id": "g7L10J82lTKz",
        "colab_type": "text"
      },
      "source": [
        ""
      ]
    },
    {
      "cell_type": "code",
      "metadata": {
        "id": "jcpbD6FT2G38",
        "colab_type": "code",
        "outputId": "010ade4b-4cec-477b-922b-919b3fb84c10",
        "colab": {
          "base_uri": "https://localhost:8080/",
          "height": 34
        }
      },
      "source": [
        "#natural(1,10)\n",
        "#output:1,4,7,10\n",
        "def natural(l,m):\n",
        "  for i in range(l,m+1,3):\n",
        "    print(i,end=\"  \")\n",
        "natural(1,10)    \n"
      ],
      "execution_count": 0,
      "outputs": [
        {
          "output_type": "stream",
          "text": [
            "1  4  7  10  "
          ],
          "name": "stdout"
        }
      ]
    },
    {
      "cell_type": "code",
      "metadata": {
        "id": "Rl2vO-2L201t",
        "colab_type": "code",
        "colab": {}
      },
      "source": [
        ""
      ],
      "execution_count": 0,
      "outputs": []
    },
    {
      "cell_type": "code",
      "metadata": {
        "id": "TmVx1rGt3h1b",
        "colab_type": "code",
        "outputId": "332341dd-3212-44d3-d65f-44cc833a0ce2",
        "colab": {
          "base_uri": "https://localhost:8080/",
          "height": 34
        }
      },
      "source": [
        "#using function\n",
        "# input:1,10\n",
        "def reverserange(start,end):\n",
        "  for i in range(end,start-1,-1):\n",
        "    print(i,end=\"  \")\n",
        "reverserange(1,10)    \n",
        "\n",
        "                     "
      ],
      "execution_count": 0,
      "outputs": [
        {
          "output_type": "stream",
          "text": [
            "10  9  8  7  6  5  4  3  2  1  "
          ],
          "name": "stdout"
        }
      ]
    },
    {
      "cell_type": "code",
      "metadata": {
        "id": "ohA_o6s24kV6",
        "colab_type": "code",
        "colab": {}
      },
      "source": [
        ""
      ],
      "execution_count": 0,
      "outputs": []
    },
    {
      "cell_type": "markdown",
      "metadata": {
        "id": "2yoOFCa95vTe",
        "colab_type": "text"
      },
      "source": [
        "#DATA STRUCTURES TYPES:\n",
        "- LIST\n",
        "- TUPLE\n",
        "- DICTIONARY"
      ]
    },
    {
      "cell_type": "code",
      "metadata": {
        "id": "1YG6Smyz5y06",
        "colab_type": "code",
        "colab": {}
      },
      "source": [
        ""
      ],
      "execution_count": 0,
      "outputs": []
    },
    {
      "cell_type": "markdown",
      "metadata": {
        "id": "LTgD8YSo6Jsz",
        "colab_type": "text"
      },
      "source": [
        "#List:\n",
        "- its one common data structure in python,the items are separeted by comma and enclosed by []\n",
        "- crud operations\n",
        "* c - create\n",
        "* r - read\n",
        "* u - update\n",
        "* d - delete\n",
        "- list can be changed or mutable\n",
        "## example:\n",
        "- List=[1,2,3,4]"
      ]
    },
    {
      "cell_type": "code",
      "metadata": {
        "id": "xvrSBo4l9oXV",
        "colab_type": "code",
        "colab": {}
      },
      "source": [
        ""
      ],
      "execution_count": 0,
      "outputs": []
    },
    {
      "cell_type": "code",
      "metadata": {
        "id": "AtYzbZDP9o__",
        "colab_type": "code",
        "outputId": "7bd5853b-95f8-4b66-8710-c70c4e219943",
        "colab": {
          "base_uri": "https://localhost:8080/",
          "height": 68
        }
      },
      "source": [
        "li=[1,2,3,4,5]\n",
        "print(li)\n",
        "print(li[0])\n",
        "print(li[-1])"
      ],
      "execution_count": 0,
      "outputs": [
        {
          "output_type": "stream",
          "text": [
            "[1, 2, 3, 4, 5]\n",
            "1\n",
            "5\n"
          ],
          "name": "stdout"
        }
      ]
    },
    {
      "cell_type": "code",
      "metadata": {
        "id": "vjhELQbS9o-l",
        "colab_type": "code",
        "colab": {}
      },
      "source": [
        ""
      ],
      "execution_count": 0,
      "outputs": []
    },
    {
      "cell_type": "code",
      "metadata": {
        "id": "eSZNsZZJAJeS",
        "colab_type": "code",
        "outputId": "3e657027-f37a-446f-fcf1-4cbe3a6f1f80",
        "colab": {
          "base_uri": "https://localhost:8080/",
          "height": 197
        }
      },
      "source": [
        "name = \"snow strom\"\n",
        "name[5]='x'\n",
        "print(name)\n"
      ],
      "execution_count": 0,
      "outputs": [
        {
          "output_type": "error",
          "ename": "TypeError",
          "evalue": "ignored",
          "traceback": [
            "\u001b[0;31m---------------------------------------------------------------------------\u001b[0m",
            "\u001b[0;31mTypeError\u001b[0m                                 Traceback (most recent call last)",
            "\u001b[0;32m<ipython-input-46-e11809777f34>\u001b[0m in \u001b[0;36m<module>\u001b[0;34m()\u001b[0m\n\u001b[1;32m      1\u001b[0m \u001b[0mname\u001b[0m \u001b[0;34m=\u001b[0m \u001b[0;34m\"snow strom\"\u001b[0m\u001b[0;34m\u001b[0m\u001b[0;34m\u001b[0m\u001b[0m\n\u001b[0;32m----> 2\u001b[0;31m \u001b[0mname\u001b[0m\u001b[0;34m[\u001b[0m\u001b[0;36m5\u001b[0m\u001b[0;34m]\u001b[0m\u001b[0;34m=\u001b[0m\u001b[0;34m'x'\u001b[0m\u001b[0;34m\u001b[0m\u001b[0;34m\u001b[0m\u001b[0m\n\u001b[0m\u001b[1;32m      3\u001b[0m \u001b[0mprint\u001b[0m\u001b[0;34m(\u001b[0m\u001b[0mname\u001b[0m\u001b[0;34m)\u001b[0m\u001b[0;34m\u001b[0m\u001b[0;34m\u001b[0m\u001b[0m\n",
            "\u001b[0;31mTypeError\u001b[0m: 'str' object does not support item assignment"
          ]
        }
      ]
    },
    {
      "cell_type": "code",
      "metadata": {
        "id": "j2VD6ZI-Aa1S",
        "colab_type": "code",
        "colab": {}
      },
      "source": [
        "if false:\n",
        "  print(\"nissan\")\n",
        "elif true:\n",
        "  print(\"ford\")\n"
      ],
      "execution_count": 0,
      "outputs": []
    }
  ]
}