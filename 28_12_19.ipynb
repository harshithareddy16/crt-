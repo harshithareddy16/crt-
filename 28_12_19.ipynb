{
  "nbformat": 4,
  "nbformat_minor": 0,
  "metadata": {
    "colab": {
      "name": "28-12-19.ipynb",
      "provenance": [],
      "include_colab_link": true
    },
    "kernelspec": {
      "name": "python3",
      "display_name": "Python 3"
    }
  },
  "cells": [
    {
      "cell_type": "markdown",
      "metadata": {
        "id": "view-in-github",
        "colab_type": "text"
      },
      "source": [
        "<a href=\"https://colab.research.google.com/github/harshithareddy16/crt-/blob/master/28_12_19.ipynb\" target=\"_parent\"><img src=\"https://colab.research.google.com/assets/colab-badge.svg\" alt=\"Open In Colab\"/></a>"
      ]
    },
    {
      "cell_type": "code",
      "metadata": {
        "id": "yRfWBpNgqjog",
        "colab_type": "code",
        "colab": {}
      },
      "source": [
        ""
      ],
      "execution_count": 0,
      "outputs": []
    },
    {
      "cell_type": "code",
      "metadata": {
        "id": "7cbRt-dOq6o1",
        "colab_type": "code",
        "colab": {
          "base_uri": "https://localhost:8080/",
          "height": 34
        },
        "outputId": "055e45fc-386c-47b5-ad7e-7a15d27bb9df"
      },
      "source": [
        "str=\"pythno\"\n",
        "li=list(str)\n",
        "print(li)"
      ],
      "execution_count": 1,
      "outputs": [
        {
          "output_type": "stream",
          "text": [
            "['p', 'y', 't', 'h', 'n', 'o']\n"
          ],
          "name": "stdout"
        }
      ]
    },
    {
      "cell_type": "code",
      "metadata": {
        "id": "y-fEJRsPrY6p",
        "colab_type": "code",
        "colab": {
          "base_uri": "https://localhost:8080/",
          "height": 34
        },
        "outputId": "9cd4dd3e-5be4-4125-9e3d-3729d13e4e1a"
      },
      "source": [
        "def input(str):\n",
        "  str1= str[0:len(str):2]\n",
        "  li=list(str1)\n",
        "  return li\n",
        "input(\"pynativa\")  \n"
      ],
      "execution_count": 6,
      "outputs": [
        {
          "output_type": "execute_result",
          "data": {
            "text/plain": [
              "['p', 'n', 't', 'v']"
            ]
          },
          "metadata": {
            "tags": []
          },
          "execution_count": 6
        }
      ]
    },
    {
      "cell_type": "code",
      "metadata": {
        "id": "me0LmUNyt1j8",
        "colab_type": "code",
        "colab": {
          "base_uri": "https://localhost:8080/",
          "height": 34
        },
        "outputId": "db31f4d9-265b-4ee5-d07c-f679e80db2af"
      },
      "source": [
        "def input(li):\n",
        "  if li[0]==li[-1]:\n",
        "    return True\n",
        "  else:\n",
        "    return False\n",
        "li=[1,2,3,4,1]    \n",
        "print(input(li))"
      ],
      "execution_count": 10,
      "outputs": [
        {
          "output_type": "stream",
          "text": [
            "True\n"
          ],
          "name": "stdout"
        }
      ]
    },
    {
      "cell_type": "code",
      "metadata": {
        "id": "dNEe1YDY124H",
        "colab_type": "code",
        "colab": {
          "base_uri": "https://localhost:8080/",
          "height": 102
        },
        "outputId": "32f38375-64ce-438c-cba7-7257766c7413"
      },
      "source": [
        "i=1\n",
        "n=5\n",
        "for i in range(1,6):\n",
        "  for j in range(0,i):\n",
        "    print(i,end=\" \")\n",
        "  print(\"\\r\")  "
      ],
      "execution_count": 12,
      "outputs": [
        {
          "output_type": "stream",
          "text": [
            "1 \r\n",
            "2 2 \r\n",
            "3 3 3 \r\n",
            "4 4 4 4 \r\n",
            "5 5 5 5 5 \r\n"
          ],
          "name": "stdout"
        }
      ]
    },
    {
      "cell_type": "code",
      "metadata": {
        "id": "2Gvp1S4Uw38D",
        "colab_type": "code",
        "colab": {
          "base_uri": "https://localhost:8080/",
          "height": 85
        },
        "outputId": "594880b6-e341-4ae4-dda6-96c9b9485763"
      },
      "source": [
        "def input(str,n,y):\n",
        "  x=100-n\n",
        "  z=x+y\n",
        "  print(str)\n",
        "  print(n)\n",
        "  print(y)\n",
        "  print(z)\n",
        "input(\"harshitha\",19,2019)  \n"
      ],
      "execution_count": 13,
      "outputs": [
        {
          "output_type": "stream",
          "text": [
            "harshitha\n",
            "19\n",
            "2019\n",
            "2100\n"
          ],
          "name": "stdout"
        }
      ]
    },
    {
      "cell_type": "code",
      "metadata": {
        "id": "ATATKyNI1r18",
        "colab_type": "code",
        "colab": {}
      },
      "source": [
        ""
      ],
      "execution_count": 0,
      "outputs": []
    }
  ]
}